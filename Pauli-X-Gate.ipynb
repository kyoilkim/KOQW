{
 "cells": [
  {
   "cell_type": "markdown",
   "metadata": {},
   "source": [
    "## 내가 바꾸고 싶었던 것은 작디작은 큐빗 하나였단다.\n",
    "### Pauli X 게이트 정복하기\n",
    "#### 제작자: 박수연-Cameron (Sueon) Park, 2021 || me.sueonpark@gmail.com"
   ]
  },
  {
   "cell_type": "markdown",
   "metadata": {},
   "source": [
    "컴퓨터는 이진 신호로 이루어집니다. 0과 1의 무수한 흐름들이 컴퓨터의 작동 뿐만 아니라 고급 데이터인 음악, 이미지, 영상들도 만들어냅니다.\n",
    "여기서 궁금한 것이 생기지 않나요? 0에서 1로, 1에서 0으로 바꾸는 그 제어기는 어떻게 생겼을까요? 제어기의 이름은 무엇이며, 어떻게 작동시키는 것일까요?\n",
    "\n",
    "고전 컴퓨터에서는 이를 ``NOT 게이트``라고 부릅니다. 원본 데이터를 부정한다고 생각하시면 됩니다. 컴퓨터가 읽을 수 있는 뜻은 0과 1 뿐이니까요.\n",
    "이대로만 고집해도 괜찮을까요?\n",
    "\n",
    "스무고개를 떠올려 봅시다. 스무고개를 할 때는 어떠한 질문에 '예' 또는 '아니오'로만 답할 수 있습니다. 말그대로 스무고개입니다. 답을 찾는 데 상당한 시간이 소요됩니다.\n",
    "\n",
    "컴퓨터도 마찬가지입니다. 디지털 신호는 간단하고 회로도 설계가 편하다는 이점이 있으나 고전 컴퓨터의 한계를 만드는 데 한몫했습니다. 그것을 뛰어넘고자 발명된 것이 바로 ``양자 컴퓨터``이므로, 지금부터 이 노트북과 함께 양자 컴퓨팅에서의 NOT 게이트인, __Pauli X Gate__ 에 대해 알아봅시다."
   ]
  },
  {
   "cell_type": "code",
   "execution_count": 2,
   "metadata": {
    "scrolled": true
   },
   "outputs": [
    {
     "name": "stdout",
     "output_type": "stream",
     "text": [
      "Requirement already satisfied: qiskit in /usr/local/lib/python3.9/site-packages (0.23.4)\n",
      "Requirement already satisfied: qiskit-ignis==0.5.1 in /usr/local/lib/python3.9/site-packages (from qiskit) (0.5.1)\n",
      "Requirement already satisfied: qiskit-aqua==0.8.1 in /usr/local/lib/python3.9/site-packages (from qiskit) (0.8.1)\n",
      "Requirement already satisfied: qiskit-ibmq-provider==0.11.1 in /usr/local/lib/python3.9/site-packages (from qiskit) (0.11.1)\n",
      "Requirement already satisfied: qiskit-terra==0.16.3 in /usr/local/lib/python3.9/site-packages (from qiskit) (0.16.3)\n",
      "Requirement already satisfied: qiskit-aer==0.7.3 in /usr/local/lib/python3.9/site-packages (from qiskit) (0.7.3)\n",
      "Requirement already satisfied: cython>=0.27.1 in /usr/local/lib/python3.9/site-packages (from qiskit-aer==0.7.3->qiskit) (0.29.21)\n",
      "Requirement already satisfied: pybind11>=2.4 in /usr/local/lib/python3.9/site-packages (from qiskit-aer==0.7.3->qiskit) (2.6.2)\n",
      "Requirement already satisfied: numpy>=1.16.3 in /usr/local/lib/python3.9/site-packages (from qiskit-aer==0.7.3->qiskit) (1.19.5)\n",
      "Requirement already satisfied: scipy>=1.0 in /usr/local/lib/python3.9/site-packages (from qiskit-aer==0.7.3->qiskit) (1.6.0)\n",
      "Requirement already satisfied: retworkx>=0.5.0 in /usr/local/lib/python3.9/site-packages (from qiskit-aqua==0.8.1->qiskit) (0.7.2)\n",
      "Requirement already satisfied: dlx in /usr/local/lib/python3.9/site-packages (from qiskit-aqua==0.8.1->qiskit) (1.0.4)\n",
      "Requirement already satisfied: docplex in /usr/local/lib/python3.9/site-packages (from qiskit-aqua==0.8.1->qiskit) (2.19.202)\n",
      "Requirement already satisfied: h5py in /usr/local/lib/python3.9/site-packages (from qiskit-aqua==0.8.1->qiskit) (3.1.0)\n",
      "Requirement already satisfied: yfinance in /usr/local/lib/python3.9/site-packages (from qiskit-aqua==0.8.1->qiskit) (0.1.55)\n",
      "Requirement already satisfied: fastdtw in /usr/local/lib/python3.9/site-packages (from qiskit-aqua==0.8.1->qiskit) (0.3.0)\n",
      "Requirement already satisfied: pandas in /usr/local/lib/python3.9/site-packages (from qiskit-aqua==0.8.1->qiskit) (1.2.1)\n",
      "Requirement already satisfied: scikit-learn>=0.20.0 in /usr/local/lib/python3.9/site-packages (from qiskit-aqua==0.8.1->qiskit) (0.24.1)\n",
      "Requirement already satisfied: setuptools>=40.1.0 in /usr/local/lib/python3.9/site-packages (from qiskit-aqua==0.8.1->qiskit) (51.1.1)\n",
      "Requirement already satisfied: quandl in /usr/local/lib/python3.9/site-packages (from qiskit-aqua==0.8.1->qiskit) (3.6.0)\n",
      "Requirement already satisfied: sympy>=1.3 in /usr/local/lib/python3.9/site-packages (from qiskit-aqua==0.8.1->qiskit) (1.7.1)\n",
      "Requirement already satisfied: psutil>=5 in /usr/local/lib/python3.9/site-packages (from qiskit-aqua==0.8.1->qiskit) (5.8.0)\n",
      "Requirement already satisfied: python-dateutil>=2.8.0 in /usr/local/lib/python3.9/site-packages (from qiskit-ibmq-provider==0.11.1->qiskit) (2.8.1)\n",
      "Requirement already satisfied: urllib3>=1.21.1 in /usr/local/lib/python3.9/site-packages (from qiskit-ibmq-provider==0.11.1->qiskit) (1.26.3)\n",
      "Requirement already satisfied: requests>=2.19 in /usr/local/lib/python3.9/site-packages (from qiskit-ibmq-provider==0.11.1->qiskit) (2.25.1)\n",
      "Requirement already satisfied: nest-asyncio!=1.1.0,>=1.0.0 in /usr/local/lib/python3.9/site-packages (from qiskit-ibmq-provider==0.11.1->qiskit) (1.5.1)\n",
      "Requirement already satisfied: requests-ntlm>=1.1.0 in /usr/local/lib/python3.9/site-packages (from qiskit-ibmq-provider==0.11.1->qiskit) (1.1.0)\n",
      "Requirement already satisfied: websockets>=8 in /usr/local/lib/python3.9/site-packages (from qiskit-ibmq-provider==0.11.1->qiskit) (8.1)\n",
      "Requirement already satisfied: networkx>=2.2 in /usr/local/lib/python3.9/site-packages (from qiskit-terra==0.16.3->qiskit) (2.5)\n",
      "Requirement already satisfied: python-constraint>=1.4 in /usr/local/lib/python3.9/site-packages (from qiskit-terra==0.16.3->qiskit) (1.4.0)\n",
      "Requirement already satisfied: dill>=0.3 in /usr/local/lib/python3.9/site-packages (from qiskit-terra==0.16.3->qiskit) (0.3.3)\n",
      "Requirement already satisfied: jsonschema>=2.6 in /usr/local/lib/python3.9/site-packages (from qiskit-terra==0.16.3->qiskit) (3.2.0)\n",
      "Requirement already satisfied: fastjsonschema>=2.10 in /usr/local/lib/python3.9/site-packages (from qiskit-terra==0.16.3->qiskit) (2.14.5)\n",
      "Requirement already satisfied: ply>=3.10 in /usr/local/lib/python3.9/site-packages (from qiskit-terra==0.16.3->qiskit) (3.11)\n",
      "Requirement already satisfied: pyrsistent>=0.14.0 in /usr/local/lib/python3.9/site-packages (from jsonschema>=2.6->qiskit-terra==0.16.3->qiskit) (0.17.3)\n",
      "Requirement already satisfied: attrs>=17.4.0 in /usr/local/lib/python3.9/site-packages (from jsonschema>=2.6->qiskit-terra==0.16.3->qiskit) (20.3.0)\n",
      "Requirement already satisfied: six>=1.11.0 in /usr/local/Cellar/protobuf/3.14.0/libexec/lib/python3.9/site-packages (from jsonschema>=2.6->qiskit-terra==0.16.3->qiskit) (1.15.0)\n",
      "Requirement already satisfied: decorator>=4.3.0 in /usr/local/lib/python3.9/site-packages (from networkx>=2.2->qiskit-terra==0.16.3->qiskit) (4.4.2)\n",
      "Requirement already satisfied: certifi>=2017.4.17 in /usr/local/lib/python3.9/site-packages (from requests>=2.19->qiskit-ibmq-provider==0.11.1->qiskit) (2020.12.5)\n",
      "Requirement already satisfied: chardet<5,>=3.0.2 in /usr/local/lib/python3.9/site-packages (from requests>=2.19->qiskit-ibmq-provider==0.11.1->qiskit) (4.0.0)\n",
      "Requirement already satisfied: idna<3,>=2.5 in /usr/local/lib/python3.9/site-packages (from requests>=2.19->qiskit-ibmq-provider==0.11.1->qiskit) (2.10)\n",
      "Requirement already satisfied: cryptography>=1.3 in /usr/local/lib/python3.9/site-packages (from requests-ntlm>=1.1.0->qiskit-ibmq-provider==0.11.1->qiskit) (3.3.1)\n",
      "Requirement already satisfied: ntlm-auth>=1.0.2 in /usr/local/lib/python3.9/site-packages (from requests-ntlm>=1.1.0->qiskit-ibmq-provider==0.11.1->qiskit) (1.5.0)\n",
      "Requirement already satisfied: cffi>=1.12 in /usr/local/lib/python3.9/site-packages (from cryptography>=1.3->requests-ntlm>=1.1.0->qiskit-ibmq-provider==0.11.1->qiskit) (1.14.4)\n",
      "Requirement already satisfied: pycparser in /usr/local/lib/python3.9/site-packages (from cffi>=1.12->cryptography>=1.3->requests-ntlm>=1.1.0->qiskit-ibmq-provider==0.11.1->qiskit) (2.20)\n",
      "Requirement already satisfied: joblib>=0.11 in /usr/local/lib/python3.9/site-packages (from scikit-learn>=0.20.0->qiskit-aqua==0.8.1->qiskit) (1.0.0)\n",
      "Requirement already satisfied: threadpoolctl>=2.0.0 in /usr/local/lib/python3.9/site-packages (from scikit-learn>=0.20.0->qiskit-aqua==0.8.1->qiskit) (2.1.0)\n",
      "Requirement already satisfied: mpmath>=0.19 in /usr/local/lib/python3.9/site-packages (from sympy>=1.3->qiskit-aqua==0.8.1->qiskit) (1.1.0)\n",
      "Requirement already satisfied: pytz>=2017.3 in /usr/local/lib/python3.9/site-packages (from pandas->qiskit-aqua==0.8.1->qiskit) (2020.5)\n",
      "Requirement already satisfied: more-itertools in /usr/local/lib/python3.9/site-packages (from quandl->qiskit-aqua==0.8.1->qiskit) (8.6.0)\n",
      "Requirement already satisfied: inflection>=0.3.1 in /usr/local/lib/python3.9/site-packages (from quandl->qiskit-aqua==0.8.1->qiskit) (0.5.1)\n",
      "Requirement already satisfied: lxml>=4.5.1 in /usr/local/lib/python3.9/site-packages (from yfinance->qiskit-aqua==0.8.1->qiskit) (4.6.2)\n",
      "Requirement already satisfied: multitasking>=0.0.7 in /usr/local/lib/python3.9/site-packages (from yfinance->qiskit-aqua==0.8.1->qiskit) (0.0.9)\n"
     ]
    }
   ],
   "source": [
    "## 기본 중의 기본, qiskit을 구동시키기 위해 필요한 라이브러리들을 import합시다.\n",
    "!pip install qiskit\n",
    "import numpy as np\n",
    "from qiskit import QuantumCircuit, ClassicalRegister, QuantumRegister\n",
    "from qiskit import execute"
   ]
  },
  {
   "cell_type": "code",
   "execution_count": 29,
   "metadata": {},
   "outputs": [],
   "source": [
    "# Qubit(큐빗) 하나짜리 Quantum Register를 만듭시다.\n",
    "qr = QuantumRegister(1) # 하단의 그림에서 줄 하나짜리 qubit 회로입니다.\n",
    "\n",
    "# 전형적인 레지스터(Classical Register) 하나를 만듭시다. 비트 하나짜리입니다. (0과 1)\n",
    "cr = ClassicalRegister(1) # 하단의 그림에서 줄 두 개짜리 bit 회로입니다.\n",
    "\n",
    "# Quantum Register 하나, Classical Register 하나를 가지고 양자 회로를 만듭니다.\n",
    "circ = QuantumCircuit(qr, cr)"
   ]
  },
  {
   "cell_type": "code",
   "execution_count": 30,
   "metadata": {},
   "outputs": [
    {
     "data": {
      "text/plain": [
       "<qiskit.circuit.instructionset.InstructionSet at 0x7f90f00acb20>"
      ]
     },
     "execution_count": 30,
     "metadata": {},
     "output_type": "execute_result"
    }
   ],
   "source": [
    "# 큐빗 회로에 파울리 X 게이트를 얹어 봅시다!\n",
    "circ.x(qr[0])"
   ]
  },
  {
   "cell_type": "code",
   "execution_count": 31,
   "metadata": {},
   "outputs": [
    {
     "data": {
      "text/plain": [
       "<qiskit.circuit.instructionset.InstructionSet at 0x7f90f00ac190>"
      ]
     },
     "execution_count": 31,
     "metadata": {},
     "output_type": "execute_result"
    }
   ],
   "source": [
    "# Classical Register를 사용해 큐빗의 상태를 측정해 봅시다.\n",
    "circ.measure(qr, cr)"
   ]
  },
  {
   "cell_type": "code",
   "execution_count": 32,
   "metadata": {},
   "outputs": [
    {
     "data": {
      "image/png": "[encoded data removed]",
      "text/plain": [
       "<Figure size 261.177x144.48 with 1 Axes>"
      ]
     },
     "execution_count": 32,
     "metadata": {},
     "output_type": "execute_result"
    }
   ],
   "source": [
    "# 회로를 그려 봅시다.\n",
    "circ.draw(output='mpl')"
   ]
  },
  {
   "cell_type": "markdown",
   "metadata": {},
   "source": [
    "자, 이 큐빗은 0이 나왔습니다. 0 큐빗은 2차원 벡터로 나타낼 수 있습니다. __0 큐빗 축은 1을, 1 큐빗 축은 0을 가리키는 상태가 바로 0 큐빗(  $\\vert0\\rangle$  )입니다.__"
   ]
  },
  {
   "cell_type": "markdown",
   "metadata": {},
   "source": [
    "$$\n",
    " \\begin{bmatrix}\n",
    "  1 \\\\\n",
    "  0\n",
    " \\end{bmatrix}\n",
    "$$"
   ]
  },
  {
   "cell_type": "code",
   "execution_count": 35,
   "metadata": {},
   "outputs": [],
   "source": [
    "# 이제 회로를 시뮬레이션하고 작동시킬 때가 왔습니다. 또한 필요한 모듈을 import합시다.\n",
    "from qiskit import BasicAer\n",
    "\n",
    "# 백엔드를 설정합시다.\n",
    "backend_sim = BasicAer.get_backend('qasm_simulator') # 여기서는 BasicAer의 qasm_simulator를 이용하려 합니다.\n",
    "\n",
    "# 회로를 작동시켜 봅시다!\n",
    "job_sim = execute(circ, backend_sim, shots=100) # 이 회로를 100번 실행합니다. 실행하는 횟수를 shot이라고 합니다.\n",
    "\n",
    "# 여기서는 BasicAer'의 qasm_simulator를 사용합니다.\n",
    "backend_sim = BasicAer.get_backend('qasm_simulator')\n",
    "\n",
    "# qasm_simulator에서 회로를 100번 돌립니다. 그 횟수를 'shot'이라고 부릅니다.\n",
    "job_sim = execute(circ, backend_sim, shots=100)"
   ]
  },
  {
   "cell_type": "code",
   "execution_count": 36,
   "metadata": {},
   "outputs": [
    {
     "name": "stdout",
     "output_type": "stream",
     "text": [
      "{'1': 100}\n"
     ]
    }
   ],
   "source": [
    "# 결과를 끌어냅니다.\n",
    "result_sim = job_sim.result()\n",
    "\n",
    "# 파이톤 딕셔너리 형태로 저장되어 있을 결과들을 끌어냅니다. 결과는 키로, 결과가 나온 횟수는 데이터로 저장되어 있습니다.\n",
    "counts = result_sim.get_counts(circ)\n",
    "print(counts)"
   ]
  },
  {
   "cell_type": "markdown",
   "metadata": {},
   "source": [
    "##### 0 큐빗을 X 게이트에 통과시켰더니 1 큐빗(  $\\vert1\\rangle$  )이 나왔습니다!\n",
    "100번 돌렸더니 100번 다 1이 나왔습니다. 0에서 1이 되고, 0에서 1이 되고, 0에서 1이 되고, ...... 이 과정을 100번 거쳤다고 생각하면 됩니다. 반대로만 바꿔주는 게이트는 천 번을 돌리든 만 번을 돌리든 0 큐빗은 1 큐빗이 될 것입니다.\n",
    "\n",
    "이 백발백중의 기적을 히스토그램으로 그려 봅시다."
   ]
  },
  {
   "cell_type": "code",
   "execution_count": 37,
   "metadata": {},
   "outputs": [
    {
     "data": {
      "image/png": "[encoded data removed]",
      "text/plain": [
       "<Figure size 504x360 with 1 Axes>"
      ]
     },
     "execution_count": 37,
     "metadata": {},
     "output_type": "execute_result"
    }
   ],
   "source": [
    "# 필요한 모듈 import하기\n",
    "from qiskit.tools.visualization import plot_histogram\n",
    "\n",
    "plot_histogram(counts)"
   ]
  },
  {
   "cell_type": "markdown",
   "metadata": {},
   "source": [
    "Pauli X Gate도 뒤집기를 잘 하는데, 저희도 거꾸로 생각해 봅시다. 0 큐빗이 X 게이트를 두 번 통과하면 어떻게 될까요?\n",
    "\n",
    "프로그래밍은 상상과 생각의 조화라 생각합니다. 0 큐빗이 X 게이트를 한 번 통과하자 1 큐빗이 되었습니다. 그런 상황에서 다시 뒤집는다면?\n",
    "\n",
    "**정답입니다!** 다시 0 큐빗이 됩니다."
   ]
  },
  {
   "cell_type": "code",
   "execution_count": 7,
   "metadata": {},
   "outputs": [
    {
     "data": {
      "text/plain": [
       "<qiskit.circuit.instructionset.InstructionSet at 0x7fcd8e03d8e0>"
      ]
     },
     "execution_count": 7,
     "metadata": {},
     "output_type": "execute_result"
    }
   ],
   "source": [
    "# 큐빗 2개짜리 Quantum Register를 만들어 봅시다.\n",
    "qreg_q = QuantumRegister(2, 'q')\n",
    "\n",
    "# 이번에는 그에 상응하는 Classical Register를 만들어 봅시다. 비트가 2개여야 합니다.\n",
    "creg_c = ClassicalRegister(2, 'c')\n",
    "\n",
    "# 회로를 만듭시다.\n",
    "circuit = QuantumCircuit(qreg_q, creg_c)\n",
    "\n",
    "# 2번째 Quantum Register에 X 게이트를 하나 얹어 주세요. '주의' 인간에게 2번째이면 컴퓨터에게는 몇 인덱스일까요?\n",
    "circuit.x(qreg_q[1])\n",
    "\n",
    "# X 게이트가 놓인 곳에서 측정해 봅시다. \n",
    "circuit.measure(qreg_q[1], creg_c[1])"
   ]
  },
  {
   "cell_type": "code",
   "execution_count": 8,
   "metadata": {
    "scrolled": false
   },
   "outputs": [
    {
     "data": {
      "image/png": "[encoded data removed]",
      "text/plain": [
       "<Figure size 261.032x204.68 with 1 Axes>"
      ]
     },
     "execution_count": 8,
     "metadata": {},
     "output_type": "execute_result"
    }
   ],
   "source": [
    "# 회로를 그려 봅시다.\n",
    "circuit.draw(output='mpl')"
   ]
  },
  {
   "cell_type": "markdown",
   "metadata": {},
   "source": [
    "자, 이 큐빗은 1이 나왔습니다. 1 큐빗도 2차원 벡터로 나타낼 수 있습니다. __0 큐빗 축은 0을, 1 큐빗 축은 1을 가리키는 상태가 바로 1 큐빗(  $\\vert1\\rangle$  )입니다.__"
   ]
  },
  {
   "cell_type": "markdown",
   "metadata": {},
   "source": [
    "$$\n",
    " \\begin{bmatrix}\n",
    "  0 \\\\\n",
    "  1\n",
    " \\end{bmatrix}\n",
    "$$"
   ]
  },
  {
   "cell_type": "markdown",
   "metadata": {},
   "source": [
    "첫 번째(컴퓨터에게는 0번째) Quantum Register은 0 큐빗입니다. 반면, X 게이트가 놓인 곳은 방금 측정했다시피 1 큐빗이 나옵니다.\n",
    "그리하여 이 회로가 나타내는 큐빗은 현재 '01' 상태입니다.\n",
    "\n",
    "이제 이 결과를 뒤집어 볼까요?"
   ]
  },
  {
   "cell_type": "code",
   "execution_count": 11,
   "metadata": {},
   "outputs": [
    {
     "name": "stdout",
     "output_type": "stream",
     "text": [
      "{'10': 100}\n"
     ]
    }
   ],
   "source": [
    "# 필요한 모듈 import하기\n",
    "from qiskit import BasicAer\n",
    "\n",
    "# 위와 동일하게 BasicAer의 qasm_simulator를 사용해 주세요.\n",
    "backend_sim1 = BasicAer.get_backend('qasm_simulator')\n",
    "\n",
    "# 회로를 100번 실행해 볼까요?\n",
    "job_sim1 = execute(circuit, backend_sim1, shots=100)\n",
    "\n",
    "# 결과를 가져오세요.\n",
    "result_sim1 = job_sim1.result()\n",
    "\n",
    "# 측정 결과가 담긴 딕셔너리를 출력하세요.\n",
    "counts1 = result_sim1.get_counts(circuit)\n",
    "print(counts1)"
   ]
  },
  {
   "cell_type": "markdown",
   "metadata": {},
   "source": [
    "'01' 큐빗들이 '10'이 되었습니다!"
   ]
  },
  {
   "cell_type": "code",
   "execution_count": 14,
   "metadata": {},
   "outputs": [
    {
     "data": {
      "image/png": "[encoded data removed]",
      "text/plain": [
       "<Figure size 504x360 with 1 Axes>"
      ]
     },
     "execution_count": 14,
     "metadata": {},
     "output_type": "execute_result"
    }
   ],
   "source": [
    "# 필요한 모듈 import하기\n",
    "from qiskit.tools.visualization import plot_histogram\n",
    "\n",
    "# 위와 동일하게 이번 회로에 대한 히스토그램을 그려 주세요.\n",
    "plot_histogram(counts1)"
   ]
  },
  {
   "cell_type": "markdown",
   "metadata": {},
   "source": [
    "예상했던 결과가 역시 백발백중으로 나오는군요."
   ]
  },
  {
   "cell_type": "markdown",
   "metadata": {},
   "source": [
    "선형대수학을 배우셨다면 눈치채셨을 수 있습니다. 위에서 0 큐빗과 1 큐빗을 2차원 벡터로 나타내 보았던 것, 기억나시나요? 그렇다면 파울리 X 게이트를 벡터화하면 어떻게 바꿀 수 있을까요?\n",
    "\n",
    "__행렬곱__ 연산을 떠올리면 간단합니다."
   ]
  },
  {
   "cell_type": "markdown",
   "metadata": {},
   "source": [
    "$$\n",
    " \\begin{bmatrix}\n",
    "  0 & 1 \\\\\n",
    "  1 & 0\n",
    " \\end{bmatrix}\n",
    "$$"
   ]
  },
  {
   "cell_type": "markdown",
   "metadata": {},
   "source": [
    "이게 바로 파울리 X 게이트입니다. 행렬곱 연산을 수행해 봅시다. 먼저 0 큐빗부터!"
   ]
  },
  {
   "cell_type": "markdown",
   "metadata": {},
   "source": [
    "$$\n",
    "\\begin{bmatrix}\n",
    "  0 & 1 \\\\\n",
    "  1 & 0\n",
    " \\end{bmatrix}.\n",
    " \\begin{bmatrix}\n",
    "  1 \\\\\n",
    "  0\n",
    " \\end{bmatrix}=\n",
    " \\begin{bmatrix}\n",
    "  0 \\\\\n",
    "  1\n",
    " \\end{bmatrix}\n",
    "$$\n",
    "\n",
    "0 큐빗과 파울리 X 게이트를 행렬곱 연산했더니 1 큐빗을 나타내는 벡터가 나오는 것을 확인하실 수 있습니다. 이제 반대로 1 큐빗을 X 게이트에 넣고 돌려 봅시다."
   ]
  },
  {
   "cell_type": "markdown",
   "metadata": {},
   "source": [
    "$$\n",
    " \\begin{bmatrix}\n",
    "  0 & 1 \\\\\n",
    "  1 & 0\n",
    " \\end{bmatrix}.\n",
    " \\begin{bmatrix}\n",
    "  0 \\\\\n",
    "  1\n",
    " \\end{bmatrix}=\n",
    " \\begin{bmatrix}\n",
    "  1 \\\\\n",
    "  0\n",
    " \\end{bmatrix}\n",
    "$$\n",
    "\n",
    "1 큐빗과 파울리 X 게이트를 행렬곱 연산했더니 0 큐빗이 나옵니다."
   ]
  },
  {
   "cell_type": "markdown",
   "metadata": {},
   "source": [
    "참 쉽죠?"
   ]
  }
 ],
 "metadata": {
  "kernelspec": {
   "display_name": "Python 3",
   "language": "python",
   "name": "python3"
  },
  "language_info": {
   "codemirror_mode": {
    "name": "ipython",
    "version": 3
   },
   "file_extension": ".py",
   "mimetype": "text/x-python",
   "name": "python",
   "nbconvert_exporter": "python",
   "pygments_lexer": "ipython3",
   "version": "3.8.3"
  }
 },
 "nbformat": 4,
 "nbformat_minor": 4
}
